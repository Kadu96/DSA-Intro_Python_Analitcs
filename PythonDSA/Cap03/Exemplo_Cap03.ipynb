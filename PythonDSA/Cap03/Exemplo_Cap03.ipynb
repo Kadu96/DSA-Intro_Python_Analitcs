{
 "cells": [
  {
   "cell_type": "markdown",
   "metadata": {},
   "source": [
    "01 - Calcular a Área de um Paralelograma    "
   ]
  },
  {
   "cell_type": "code",
   "execution_count": 3,
   "metadata": {},
   "outputs": [
    {
     "name": "stdout",
     "output_type": "stream",
     "text": [
      "Bem-vindo ao Calculador de Área de Paralelogramo\n",
      "A Área deste paralelogramo é de 200.0\n"
     ]
    }
   ],
   "source": [
    "print(\"Bem-vindo ao Calculador de Área de Paralelogramo\")\n",
    "\n",
    "base = float(input(\"Insira o comprimento da Base\"))\n",
    "\n",
    "altura = float(input(\"Insira a altura\"))\n",
    "\n",
    "area_paralelogramo = base * altura\n",
    "\n",
    "print(f\"A Área deste paralelogramo é de {area_paralelogramo}\")"
   ]
  },
  {
   "cell_type": "markdown",
   "metadata": {},
   "source": [
    "02 - Calculadora Simples"
   ]
  },
  {
   "cell_type": "code",
   "execution_count": 13,
   "metadata": {},
   "outputs": [
    {
     "name": "stdout",
     "output_type": "stream",
     "text": [
      "Bem-Vindo à Calculadora\n",
      "Valores informados inválidos!\n"
     ]
    }
   ],
   "source": [
    "print(\"Bem-Vindo à Calculadora\")\n",
    "\n",
    "def calculadora (a,b,c):\n",
    "    if c == '+':\n",
    "        return a + b\n",
    "    elif c == '-':\n",
    "        return a - b\n",
    "    elif c == '*':\n",
    "        return a * b\n",
    "    elif c == '/':\n",
    "        return a / b\n",
    "    else:\n",
    "        return 0\n",
    "\n",
    "valor_01 = float(input(\"Informe o primeiro valor\"))\n",
    "valor_02 = float(input(\"Informe o segundo valor\"))\n",
    "operacao = input(\"Selecione a operação desejada (+,-,*,/)\")\n",
    "\n",
    "resultado = calculadora(valor_01,valor_02,operacao)\n",
    "\n",
    "if resultado == 0:\n",
    "    print(\"Valores informados inválidos!\")\n",
    "else:\n",
    "    print(f\"{valor_01} {operacao} {valor_02} = {resultado}\")"
   ]
  },
  {
   "cell_type": "markdown",
   "metadata": {},
   "source": [
    "03 - Algoritmo Bubble Sort"
   ]
  },
  {
   "cell_type": "code",
   "execution_count": 15,
   "metadata": {},
   "outputs": [
    {
     "name": "stdout",
     "output_type": "stream",
     "text": [
      "Lista original: [6, 3, 12, 7, 2, 9, 4, 15, 1, 5, 8, 10, 11, 14, 13]\n",
      "Lista ordenada: [1, 2, 3, 4, 5, 6, 7, 8, 9, 10, 11, 12, 13, 14, 15]\n"
     ]
    }
   ],
   "source": [
    "def bubble_sort(lista):\n",
    "    n = len(lista)\n",
    "    # Loop externo para percorrer toda a lista\n",
    "    for i in range(n):\n",
    "        # Últimos i elementos já estão no lugar correto após as iterações anteriores,\n",
    "        # então podemos ignorá-los\n",
    "        for j in range(0, n-i-1):\n",
    "            # Se o elemento atual for maior que o próximo, troca eles\n",
    "            if lista[j] > lista[j+1]:\n",
    "                lista[j], lista[j+1] = lista[j+1], lista[j]\n",
    "\n",
    "# Exemplo de uso\n",
    "lista = [6,3,12,7,2,9,4,15,1,5,8,10,11,14,13]\n",
    "print(\"Lista original:\", lista)\n",
    "\n",
    "# Chamada da função bubble_sort para ordenar a lista\n",
    "bubble_sort(lista)\n",
    "\n",
    "print(\"Lista ordenada:\", lista)\n"
   ]
  }
 ],
 "metadata": {
  "kernelspec": {
   "display_name": "base",
   "language": "python",
   "name": "python3"
  },
  "language_info": {
   "codemirror_mode": {
    "name": "ipython",
    "version": 3
   },
   "file_extension": ".py",
   "mimetype": "text/x-python",
   "name": "python",
   "nbconvert_exporter": "python",
   "pygments_lexer": "ipython3",
   "version": "3.11.7"
  }
 },
 "nbformat": 4,
 "nbformat_minor": 2
}
