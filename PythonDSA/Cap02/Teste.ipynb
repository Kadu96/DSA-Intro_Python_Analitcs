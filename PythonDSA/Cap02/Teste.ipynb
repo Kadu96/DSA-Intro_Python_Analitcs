{
 "cells": [
  {
   "cell_type": "code",
   "execution_count": 6,
   "id": "8cb79a99-0377-4bc9-9250-6054a35d10ee",
   "metadata": {},
   "outputs": [
    {
     "data": {
      "text/plain": [
       "4"
      ]
     },
     "execution_count": 6,
     "metadata": {},
     "output_type": "execute_result"
    }
   ],
   "source": [
    "2+2"
   ]
  },
  {
   "cell_type": "code",
   "execution_count": 7,
   "id": "351524e6-2b88-49ea-abdc-2e82c1f87b8c",
   "metadata": {},
   "outputs": [
    {
     "name": "stdout",
     "output_type": "stream",
     "text": [
      "Ola Mundo!\n"
     ]
    }
   ],
   "source": [
    "print('Ola Mundo!')"
   ]
  },
  {
   "cell_type": "code",
   "execution_count": 8,
   "id": "2bc21b31-dde2-45b9-afbc-cb7df5e054cb",
   "metadata": {},
   "outputs": [
    {
     "name": "stdout",
     "output_type": "stream",
     "text": [
      "Olá Mundo!!\n"
     ]
    }
   ],
   "source": [
    "print('Olá Mundo!!')"
   ]
  },
  {
   "cell_type": "code",
   "execution_count": 10,
   "id": "9670ea93",
   "metadata": {},
   "outputs": [
    {
     "name": "stdout",
     "output_type": "stream",
     "text": [
      "Números: [10, 20, 30, 40, 50, 60, 70, 80, 90, 100, 200]\n",
      "Média: 68.18181818181819\n",
      "Números abaixo da média: [10, 20, 30, 40, 50, 60]\n",
      "Números acima da média: [70, 80, 90, 100, 200]\n"
     ]
    }
   ],
   "source": [
    "def calcular_media(numeros):\n",
    "    if not numeros:\n",
    "        return 0\n",
    "    soma = sum(numeros)\n",
    "    media = soma / len(numeros)\n",
    "    return media\n",
    "\n",
    "def classificar_numeros(numeros, media):\n",
    "    abaixo_da_media = []\n",
    "    acima_da_media = []\n",
    "\n",
    "    for numero in numeros:\n",
    "        if numero < media:\n",
    "            abaixo_da_media.append(numero)\n",
    "        else:\n",
    "            acima_da_media.append(numero)\n",
    "    \n",
    "    return abaixo_da_media, acima_da_media\n",
    "\n",
    "# Lista de números\n",
    "numeros = [10, 20, 30, 40, 50, 60, 70, 80, 90, 100, 200]\n",
    "\n",
    "# Calcular a média\n",
    "media = calcular_media(numeros)\n",
    "\n",
    "# Classificar números em relação à média\n",
    "abaixo_da_media, acima_da_media = classificar_numeros(numeros, media)\n",
    "\n",
    "# Exibir resultados\n",
    "print(f\"Números: {numeros}\")\n",
    "print(f\"Média: {media}\")\n",
    "print(f\"Números abaixo da média: {abaixo_da_media}\")\n",
    "print(f\"Números acima da média: {acima_da_media}\")\n"
   ]
  },
  {
   "cell_type": "code",
   "execution_count": 12,
   "id": "f8e6dacb",
   "metadata": {},
   "outputs": [
    {
     "name": "stdout",
     "output_type": "stream",
     "text": [
      "A soma é 120\n"
     ]
    }
   ],
   "source": [
    "def somar(a,b):\n",
    "    return a + b\n",
    "\n",
    "a = input(\"Primeiro Valor\")\n",
    "b = input(\"Segundo Valor\")\n",
    "\n",
    "a = int(a)\n",
    "b = int(b)\n",
    "\n",
    "resultado = somar(a,b)\n",
    "\n",
    "print(f\"A soma é {resultado}\")"
   ]
  }
 ],
 "metadata": {
  "kernelspec": {
   "display_name": "Python 3 (ipykernel)",
   "language": "python",
   "name": "python3"
  },
  "language_info": {
   "codemirror_mode": {
    "name": "ipython",
    "version": 3
   },
   "file_extension": ".py",
   "mimetype": "text/x-python",
   "name": "python",
   "nbconvert_exporter": "python",
   "pygments_lexer": "ipython3",
   "version": "3.11.7"
  }
 },
 "nbformat": 4,
 "nbformat_minor": 5
}
