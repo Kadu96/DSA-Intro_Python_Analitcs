{
 "cells": [
  {
   "cell_type": "code",
   "execution_count": 1,
   "id": "8cb79a99-0377-4bc9-9250-6054a35d10ee",
   "metadata": {},
   "outputs": [
    {
     "data": {
      "text/plain": [
       "4"
      ]
     },
     "execution_count": 1,
     "metadata": {},
     "output_type": "execute_result"
    }
   ],
   "source": [
    "2+2"
   ]
  },
  {
   "cell_type": "code",
   "execution_count": 2,
   "id": "351524e6-2b88-49ea-abdc-2e82c1f87b8c",
   "metadata": {},
   "outputs": [
    {
     "name": "stdout",
     "output_type": "stream",
     "text": [
      "Ola Mundoi!\n"
     ]
    }
   ],
   "source": [
    "print('Ola Mundoi!')"
   ]
  },
  {
   "cell_type": "code",
   "execution_count": 3,
   "id": "2bc21b31-dde2-45b9-afbc-cb7df5e054cb",
   "metadata": {},
   "outputs": [
    {
     "name": "stdout",
     "output_type": "stream",
     "text": [
      "Olá Mundo!!\n"
     ]
    }
   ],
   "source": [
    "print('Olá Mundo!!')"
   ]
  }
 ],
 "metadata": {
  "kernelspec": {
   "display_name": "Python 3 (ipykernel)",
   "language": "python",
   "name": "python3"
  },
  "language_info": {
   "codemirror_mode": {
    "name": "ipython",
    "version": 3
   },
   "file_extension": ".py",
   "mimetype": "text/x-python",
   "name": "python",
   "nbconvert_exporter": "python",
   "pygments_lexer": "ipython3",
   "version": "3.11.7"
  }
 },
 "nbformat": 4,
 "nbformat_minor": 5
}
