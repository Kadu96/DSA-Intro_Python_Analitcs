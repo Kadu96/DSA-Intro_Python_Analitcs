{
 "cells": [
  {
   "cell_type": "markdown",
   "id": "fa81e7d2",
   "metadata": {},
   "source": [
    "código Python que crie uma lista com os números entre 1 e 100 e então imprima os números pares, mas somente se o número for divisível por 4, usando Lista"
   ]
  },
  {
   "cell_type": "code",
   "execution_count": 6,
   "id": "4cec476e-9e8a-4c3a-90b1-f1b35b02b622",
   "metadata": {},
   "outputs": [
    {
     "name": "stdout",
     "output_type": "stream",
     "text": [
      "[4, 8, 12, 16, 20, 24, 28, 32, 36, 40, 44, 48, 52, 56, 60, 64, 68, 72, 76, 80, 84, 88, 92, 96, 100]\n"
     ]
    }
   ],
   "source": [
    "# Cria uma lista com os números de 1 a 100\n",
    "numeros = list(range(1, 101))\n",
    "\n",
    "# Inicializa uma lista vazia para armazenar os números pares e divisíveis por 4\n",
    "numeros_pares_divisiveis_por_4 = []\n",
    "\n",
    "# Filtra os números que são pares e divisíveis por 4 e adiciona à nova lista\n",
    "for numero in numeros:\n",
    "    if numero % 2 == 0 and numero % 4 == 0:\n",
    "        numeros_pares_divisiveis_por_4.append(numero)\n",
    "\n",
    "# Imprime a lista de números pares e divisíveis por 4\n",
    "print(numeros_pares_divisiveis_por_4)"
   ]
  },
  {
   "cell_type": "markdown",
   "id": "9a47ed7b",
   "metadata": {},
   "source": [
    "código Python que crie uma lista com os números entre 1 e 100 e então imprima os números pares, mas somente se o número for divisível por 4, usando list comprehension"
   ]
  },
  {
   "cell_type": "code",
   "execution_count": 5,
   "id": "a8587a89-f17f-4223-a096-fb7236d527ec",
   "metadata": {},
   "outputs": [
    {
     "name": "stdout",
     "output_type": "stream",
     "text": [
      "[4, 8, 12, 16, 20, 24, 28, 32, 36, 40, 44, 48, 52, 56, 60, 64, 68, 72, 76, 80, 84, 88, 92, 96, 100]\n"
     ]
    }
   ],
   "source": [
    "# Cria uma lista de números pares e divisíveis por 4 usando list comprehension\n",
    "numeros_pares_divisiveis_por_4 = [numero for numero in range(1, 101) if numero % 2 == 0 and numero % 4 == 0]\n",
    "\n",
    "# Imprime a lista de números pares e divisíveis por 4\n",
    "print(numeros_pares_divisiveis_por_4)\n"
   ]
  }
 ],
 "metadata": {
  "kernelspec": {
   "display_name": "Python 3 (ipykernel)",
   "language": "python",
   "name": "python3"
  },
  "language_info": {
   "codemirror_mode": {
    "name": "ipython",
    "version": 3
   },
   "file_extension": ".py",
   "mimetype": "text/x-python",
   "name": "python",
   "nbconvert_exporter": "python",
   "pygments_lexer": "ipython3",
   "version": "3.11.7"
  }
 },
 "nbformat": 4,
 "nbformat_minor": 5
}
