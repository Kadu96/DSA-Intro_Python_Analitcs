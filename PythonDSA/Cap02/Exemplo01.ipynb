{
 "cells": [
  {
   "cell_type": "code",
   "execution_count": 5,
   "id": "4cec476e-9e8a-4c3a-90b1-f1b35b02b622",
   "metadata": {},
   "outputs": [],
   "source": [
    "# Cria uma lista com os números de 1 a 100\n",
    "numeros = list(range(1, 101))"
   ]
  },
  {
   "cell_type": "code",
   "execution_count": 6,
   "id": "dcd536d7-ebfa-4991-bfcc-f7d32b950be2",
   "metadata": {},
   "outputs": [],
   "source": [
    "# Inicializa uma lista vazia para armazenar os números pares e divisíveis por 4\n",
    "numeros_pares_divisiveis_por_4 = []"
   ]
  },
  {
   "cell_type": "code",
   "execution_count": 7,
   "id": "185fc470-5bd2-486c-8132-d7ab254542e5",
   "metadata": {},
   "outputs": [],
   "source": [
    "# Filtra os números que são pares e divisíveis por 4 e adiciona à nova lista\n",
    "for numero in numeros:\n",
    "    if numero % 2 == 0 and numero % 4 == 0:\n",
    "        numeros_pares_divisiveis_por_4.append(numero)"
   ]
  },
  {
   "cell_type": "code",
   "execution_count": 8,
   "id": "23ff2b88-8803-4ca2-98a2-8b2008c8a407",
   "metadata": {},
   "outputs": [
    {
     "name": "stdout",
     "output_type": "stream",
     "text": [
      "[4, 8, 12, 16, 20, 24, 28, 32, 36, 40, 44, 48, 52, 56, 60, 64, 68, 72, 76, 80, 84, 88, 92, 96, 100]\n"
     ]
    }
   ],
   "source": [
    "# Imprime a lista de números pares e divisíveis por 4\n",
    "print(numeros_pares_divisiveis_por_4)"
   ]
  },
  {
   "cell_type": "code",
   "execution_count": null,
   "id": "a8587a89-f17f-4223-a096-fb7236d527ec",
   "metadata": {},
   "outputs": [],
   "source": []
  }
 ],
 "metadata": {
  "kernelspec": {
   "display_name": "Python 3 (ipykernel)",
   "language": "python",
   "name": "python3"
  },
  "language_info": {
   "codemirror_mode": {
    "name": "ipython",
    "version": 3
   },
   "file_extension": ".py",
   "mimetype": "text/x-python",
   "name": "python",
   "nbconvert_exporter": "python",
   "pygments_lexer": "ipython3",
   "version": "3.11.7"
  }
 },
 "nbformat": 4,
 "nbformat_minor": 5
}
