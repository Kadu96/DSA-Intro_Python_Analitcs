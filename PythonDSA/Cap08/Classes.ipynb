{
 "cells": [
  {
   "cell_type": "code",
   "execution_count": 1,
   "metadata": {},
   "outputs": [],
   "source": [
    "class Livro(): #criar uma classe\n",
    "    #método de inicialização de cada objeto....método construtor\n",
    "    #self é uma referência a cada atributo da própria classe\n",
    "    def __init__(self): \n",
    "        self.titulo = 'Sapiens - Uma Breve História da Humanidade'\n",
    "        self.isbn = 9988888\n",
    "        print('Construtor chamado para criar um onjeto desta classe')\n",
    "\n",
    "    def imprime(self): #métodos são funções que executam ações nos objetos da classe\n",
    "        print(f'Foi criado o livro {self.titulo} com ISBN {self.isbn}')"
   ]
  },
  {
   "cell_type": "code",
   "execution_count": 2,
   "metadata": {},
   "outputs": [
    {
     "name": "stdout",
     "output_type": "stream",
     "text": [
      "Construtor chamado para criar um onjeto desta classe\n"
     ]
    }
   ],
   "source": [
    "Livro1 = Livro() #instância da classe - objeto"
   ]
  },
  {
   "cell_type": "code",
   "execution_count": 3,
   "metadata": {},
   "outputs": [
    {
     "data": {
      "text/plain": [
       "'Sapiens - Uma Breve História da Humanidade'"
      ]
     },
     "execution_count": 3,
     "metadata": {},
     "output_type": "execute_result"
    }
   ],
   "source": [
    "Livro1.titulo"
   ]
  },
  {
   "cell_type": "code",
   "execution_count": 4,
   "metadata": {},
   "outputs": [
    {
     "data": {
      "text/plain": [
       "9988888"
      ]
     },
     "execution_count": 4,
     "metadata": {},
     "output_type": "execute_result"
    }
   ],
   "source": [
    "Livro1.isbn"
   ]
  },
  {
   "cell_type": "code",
   "execution_count": 5,
   "metadata": {},
   "outputs": [
    {
     "name": "stdout",
     "output_type": "stream",
     "text": [
      "Foi criado o livro Sapiens - Uma Breve História da Humanidade com ISBN 9988888\n"
     ]
    }
   ],
   "source": [
    "Livro1.imprime()"
   ]
  }
 ],
 "metadata": {
  "kernelspec": {
   "display_name": "base",
   "language": "python",
   "name": "python3"
  },
  "language_info": {
   "codemirror_mode": {
    "name": "ipython",
    "version": 3
   },
   "file_extension": ".py",
   "mimetype": "text/x-python",
   "name": "python",
   "nbconvert_exporter": "python",
   "pygments_lexer": "ipython3",
   "version": "3.11.7"
  }
 },
 "nbformat": 4,
 "nbformat_minor": 2
}
