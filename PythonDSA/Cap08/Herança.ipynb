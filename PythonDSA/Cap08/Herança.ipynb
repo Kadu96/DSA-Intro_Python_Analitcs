{
 "cells": [
  {
   "cell_type": "code",
   "execution_count": 18,
   "metadata": {},
   "outputs": [],
   "source": [
    "class Animal():\n",
    "    def __init__(self):\n",
    "        print('Animal criado.')\n",
    "\n",
    "    def imprimir(self):\n",
    "        print('Este é um animal.')\n",
    "\n",
    "    def comer(self):\n",
    "        print('Hora de comer.')\n",
    "\n",
    "    def emitir_som(self):\n",
    "        pass"
   ]
  },
  {
   "cell_type": "code",
   "execution_count": 19,
   "metadata": {},
   "outputs": [],
   "source": [
    "class Cachorro(Animal):\n",
    "    def __init__(self):\n",
    "        Animal.__init__(self)\n",
    "        print('Objeto Cachorro criado.')\n",
    "\n",
    "    def emitir_som(self):\n",
    "        print('Au Au!!')"
   ]
  },
  {
   "cell_type": "code",
   "execution_count": 20,
   "metadata": {},
   "outputs": [],
   "source": [
    "class Gato(Animal):\n",
    "    def __init__(self):\n",
    "        Animal.__init__(self)\n",
    "        print('Objeto Gato criado.')\n",
    "\n",
    "    def emitir_som(self):\n",
    "        print('Miau!!')"
   ]
  },
  {
   "cell_type": "code",
   "execution_count": 21,
   "metadata": {},
   "outputs": [
    {
     "name": "stdout",
     "output_type": "stream",
     "text": [
      "Animal criado.\n",
      "Objeto Cachorro criado.\n",
      "Au Au!!\n",
      "Este é um animal.\n",
      "Hora de comer.\n"
     ]
    }
   ],
   "source": [
    "rex = Cachorro()\n",
    "rex.emitir_som()\n",
    "rex.imprimir()\n",
    "rex.comer()"
   ]
  },
  {
   "cell_type": "code",
   "execution_count": 22,
   "metadata": {},
   "outputs": [
    {
     "name": "stdout",
     "output_type": "stream",
     "text": [
      "Animal criado.\n",
      "Objeto Gato criado.\n",
      "Miau!!\n",
      "Este é um animal.\n",
      "Hora de comer.\n"
     ]
    }
   ],
   "source": [
    "zeze = Gato()\n",
    "zeze.emitir_som()\n",
    "zeze.imprimir()\n",
    "zeze.comer()"
   ]
  }
 ],
 "metadata": {
  "kernelspec": {
   "display_name": "base",
   "language": "python",
   "name": "python3"
  },
  "language_info": {
   "codemirror_mode": {
    "name": "ipython",
    "version": 3
   },
   "file_extension": ".py",
   "mimetype": "text/x-python",
   "name": "python",
   "nbconvert_exporter": "python",
   "pygments_lexer": "ipython3",
   "version": "3.11.7"
  }
 },
 "nbformat": 4,
 "nbformat_minor": 2
}
